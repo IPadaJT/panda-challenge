{
 "cells": [
  {
   "cell_type": "code",
   "execution_count": 2,
   "id": "88fb9010-ea4d-4df0-a73e-a90f4e7236d4",
   "metadata": {},
   "outputs": [
    {
     "data": {
      "text/html": [
       "<div>\n",
       "<style scoped>\n",
       "    .dataframe tbody tr th:only-of-type {\n",
       "        vertical-align: middle;\n",
       "    }\n",
       "\n",
       "    .dataframe tbody tr th {\n",
       "        vertical-align: top;\n",
       "    }\n",
       "\n",
       "    .dataframe thead th {\n",
       "        text-align: right;\n",
       "    }\n",
       "</style>\n",
       "<table border=\"1\" class=\"dataframe\">\n",
       "  <thead>\n",
       "    <tr style=\"text-align: right;\">\n",
       "      <th></th>\n",
       "      <th>Student ID</th>\n",
       "      <th>student_name</th>\n",
       "      <th>gender</th>\n",
       "      <th>grade</th>\n",
       "      <th>school_name</th>\n",
       "      <th>reading_score</th>\n",
       "      <th>math_score</th>\n",
       "      <th>School ID</th>\n",
       "      <th>type</th>\n",
       "      <th>size</th>\n",
       "      <th>budget</th>\n",
       "    </tr>\n",
       "  </thead>\n",
       "  <tbody>\n",
       "    <tr>\n",
       "      <th>0</th>\n",
       "      <td>0</td>\n",
       "      <td>Paul Bradley</td>\n",
       "      <td>M</td>\n",
       "      <td>9th</td>\n",
       "      <td>Huang High School</td>\n",
       "      <td>66</td>\n",
       "      <td>79</td>\n",
       "      <td>0</td>\n",
       "      <td>District</td>\n",
       "      <td>2917</td>\n",
       "      <td>1910635</td>\n",
       "    </tr>\n",
       "    <tr>\n",
       "      <th>1</th>\n",
       "      <td>1</td>\n",
       "      <td>Victor Smith</td>\n",
       "      <td>M</td>\n",
       "      <td>12th</td>\n",
       "      <td>Huang High School</td>\n",
       "      <td>94</td>\n",
       "      <td>61</td>\n",
       "      <td>0</td>\n",
       "      <td>District</td>\n",
       "      <td>2917</td>\n",
       "      <td>1910635</td>\n",
       "    </tr>\n",
       "  </tbody>\n",
       "</table>\n",
       "</div>"
      ],
      "text/plain": [
       "   Student ID  student_name gender grade        school_name  reading_score  \\\n",
       "0           0  Paul Bradley      M   9th  Huang High School             66   \n",
       "1           1  Victor Smith      M  12th  Huang High School             94   \n",
       "\n",
       "   math_score  School ID      type  size   budget  \n",
       "0          79          0  District  2917  1910635  \n",
       "1          61          0  District  2917  1910635  "
      ]
     },
     "execution_count": 2,
     "metadata": {},
     "output_type": "execute_result"
    }
   ],
   "source": [
    "# Import pandas\n",
    "import pandas as pd\n",
    "\n",
    "# Read csv files\n",
    "path1= \"Resources/schools_complete.csv\"\n",
    "path2= \"Resources/students_complete.csv\"\n",
    "\n",
    "# Store as Dataframes\n",
    "schooldf=pd.read_csv(path1)\n",
    "studentdf=pd.read_csv(path2)\n",
    "\n",
    "# Merge data into one Dataframe\n",
    "maindf=pd.merge(studentdf, schooldf, how='left', on=['school_name', 'school_name'])\n",
    "maindf.head(2)"
   ]
  },
  {
   "cell_type": "code",
   "execution_count": 3,
   "id": "bd730db6-50bc-4818-9a26-c8db8854592d",
   "metadata": {},
   "outputs": [
    {
     "data": {
      "text/plain": [
       "15"
      ]
     },
     "execution_count": 3,
     "metadata": {},
     "output_type": "execute_result"
    }
   ],
   "source": [
    "# Calculate the total number of unique schools\n",
    "unique_school= maindf['school_name'].unique()\n",
    "\n",
    "total_school=len(unique_school)\n",
    "total_school"
   ]
  },
  {
   "cell_type": "code",
   "execution_count": 4,
   "id": "c8ce7b8c-19a9-446e-bc48-cdb130890fe4",
   "metadata": {},
   "outputs": [
    {
     "data": {
      "text/plain": [
       "39170"
      ]
     },
     "execution_count": 4,
     "metadata": {},
     "output_type": "execute_result"
    }
   ],
   "source": [
    "# Calculate the total number of students\n",
    "studenttotal=maindf['student_name'].count()\n",
    "\n",
    "studenttotal"
   ]
  },
  {
   "cell_type": "code",
   "execution_count": 6,
   "id": "11a3cf5d-5e4a-462a-8b1d-971b15b49bc0",
   "metadata": {},
   "outputs": [
    {
     "data": {
      "text/plain": [
       "82932329558"
      ]
     },
     "execution_count": 6,
     "metadata": {},
     "output_type": "execute_result"
    }
   ],
   "source": [
    "# Calculate total budget\n",
    "budgetsum=maindf['budget'].sum()\n",
    "\n",
    "budgetsum"
   ]
  },
  {
   "cell_type": "code",
   "execution_count": 7,
   "id": "b2cacac9-7a02-455a-8bba-599dd51006e3",
   "metadata": {},
   "outputs": [
    {
     "data": {
      "text/plain": [
       "78.98537145774827"
      ]
     },
     "execution_count": 7,
     "metadata": {},
     "output_type": "execute_result"
    }
   ],
   "source": [
    "# Calculate average math score\n",
    "avgmath=maindf['math_score'].mean()\n",
    "\n",
    "avgmath"
   ]
  },
  {
   "cell_type": "code",
   "execution_count": 8,
   "id": "4dccef21-ece8-4301-91dc-d6b08d754df5",
   "metadata": {},
   "outputs": [
    {
     "data": {
      "text/plain": [
       "81.87784018381414"
      ]
     },
     "execution_count": 8,
     "metadata": {},
     "output_type": "execute_result"
    }
   ],
   "source": [
    "# Calculate average reading score\n",
    "avgread=maindf['reading_score'].mean()\n",
    "\n",
    "avgread"
   ]
  },
  {
   "cell_type": "code",
   "execution_count": 10,
   "id": "2a1e189d-0003-41b9-a513-23c82d2fdebc",
   "metadata": {},
   "outputs": [
    {
     "data": {
      "text/plain": [
       "74.9808526933878"
      ]
     },
     "execution_count": 10,
     "metadata": {},
     "output_type": "execute_result"
    }
   ],
   "source": [
    "# Calculate the percentage of students with a math score >=70\n",
    "math_pass= maindf.loc[maindf['math_score']>=70]\n",
    "no_math_pass= math_pass['Student ID'].count()\n",
    "\n",
    "per_math_pass= (no_math_pass/studenttotal)*100\n",
    "\n",
    "per_math_pass"
   ]
  },
  {
   "cell_type": "code",
   "execution_count": 11,
   "id": "775d97aa-b5a1-4acb-8895-ba3b3404430b",
   "metadata": {},
   "outputs": [
    {
     "data": {
      "text/plain": [
       "85.80546336482001"
      ]
     },
     "execution_count": 11,
     "metadata": {},
     "output_type": "execute_result"
    }
   ],
   "source": [
    "# Calculate the percentage of students with a reading score >=70\n",
    "read_pass= maindf.loc[maindf['reading_score']>=70]\n",
    "no_read_pass= read_pass['Student ID'].count()\n",
    "\n",
    "per_read_pass= (no_read_pass/studenttotal)*100\n",
    "\n",
    "per_read_pass"
   ]
  },
  {
   "cell_type": "code",
   "execution_count": 17,
   "id": "a859610d-3242-42a4-b728-423395b3f8e2",
   "metadata": {},
   "outputs": [
    {
     "data": {
      "text/plain": [
       "65.17232575950983"
      ]
     },
     "execution_count": 17,
     "metadata": {},
     "output_type": "execute_result"
    }
   ],
   "source": [
    "# Calculate the percentage of students with a math AND reading score >=70\n",
    "duopass=maindf[(maindf['math_score']>=70) & (maindf['reading_score']>=70)]\n",
    "no_duopass= duopass['Student ID'].count()\n",
    "\n",
    "per_duopass=(no_duopass/studenttotal)*100\n",
    "\n",
    "per_duopass"
   ]
  },
  {
   "cell_type": "code",
   "execution_count": 27,
   "id": "9ce389fe-51ab-4a79-8a11-a0c802b5cd4f",
   "metadata": {},
   "outputs": [
    {
     "data": {
      "text/html": [
       "<div>\n",
       "<style scoped>\n",
       "    .dataframe tbody tr th:only-of-type {\n",
       "        vertical-align: middle;\n",
       "    }\n",
       "\n",
       "    .dataframe tbody tr th {\n",
       "        vertical-align: top;\n",
       "    }\n",
       "\n",
       "    .dataframe thead th {\n",
       "        text-align: right;\n",
       "    }\n",
       "</style>\n",
       "<table border=\"1\" class=\"dataframe\">\n",
       "  <thead>\n",
       "    <tr style=\"text-align: right;\">\n",
       "      <th></th>\n",
       "      <th>Total Schools</th>\n",
       "      <th>Total Students</th>\n",
       "      <th>Total Budget</th>\n",
       "      <th>Avg Math Score</th>\n",
       "      <th>Avg Reading Score</th>\n",
       "      <th>% Passing Math</th>\n",
       "      <th>% Passing Reading</th>\n",
       "      <th>% Passing Both</th>\n",
       "    </tr>\n",
       "  </thead>\n",
       "  <tbody>\n",
       "    <tr>\n",
       "      <th>0</th>\n",
       "      <td>15</td>\n",
       "      <td>39,170</td>\n",
       "      <td>$82,932,329,558.00</td>\n",
       "      <td>78.99</td>\n",
       "      <td>81.88</td>\n",
       "      <td>74.98</td>\n",
       "      <td>85.81</td>\n",
       "      <td>65.17</td>\n",
       "    </tr>\n",
       "  </tbody>\n",
       "</table>\n",
       "</div>"
      ],
      "text/plain": [
       "   Total Schools Total Students        Total Budget Avg Math Score  \\\n",
       "0             15         39,170  $82,932,329,558.00          78.99   \n",
       "\n",
       "  Avg Reading Score % Passing Math % Passing Reading % Passing Both  \n",
       "0             81.88          74.98             85.81          65.17  "
      ]
     },
     "execution_count": 27,
     "metadata": {},
     "output_type": "execute_result"
    }
   ],
   "source": [
    "# Summarize district metrics\n",
    "districtdf=pd.DataFrame({\n",
    "    \"Total Schools\": total_school,\n",
    "    \"Total Students\":f\"{studenttotal:,}\",\n",
    "    \"Total Budget\":f'${budgetsum:,.2f}',\n",
    "    \"Avg Math Score\":f'{avgmath:,.2f}',\n",
    "    \"Avg Reading Score\":f'{avgread:,.2f}',\n",
    "    \"% Passing Math\":f'{per_math_pass:.2f}',\n",
    "    \"% Passing Reading\":f'{per_read_pass:.2f}',\n",
    "    \"% Passing Both\":f'{per_duopass:.2f}'\n",
    "}, index=[0])\n",
    "\n",
    "districtdf"
   ]
  },
  {
   "cell_type": "code",
   "execution_count": 74,
   "id": "c3ca50d5-d933-43af-98f0-109375e3a8b6",
   "metadata": {},
   "outputs": [
    {
     "data": {
      "text/plain": [
       "school_name\n",
       "Huang High School        District\n",
       "Figueroa High School     District\n",
       "Shelton High School       Charter\n",
       "Hernandez High School    District\n",
       "Griffin High School       Charter\n",
       "Wilson High School        Charter\n",
       "Cabrera High School       Charter\n",
       "Bailey High School       District\n",
       "Holden High School        Charter\n",
       "Pena High School          Charter\n",
       "Wright High School        Charter\n",
       "Rodriguez High School    District\n",
       "Johnson High School      District\n",
       "Ford High School         District\n",
       "Thomas High School        Charter\n",
       "Name: type, dtype: object"
      ]
     },
     "execution_count": 74,
     "metadata": {},
     "output_type": "execute_result"
    }
   ],
   "source": [
    "# Next is by school summary\n",
    "# Determine the School Type\n",
    "school_type = schooldf.set_index([\"school_name\"])[\"type\"]\n",
    "# Group by school name\n",
    "schoolname=maindf.set_index('school_name').groupby(['school_name'])\n",
    "\n",
    "school_type"
   ]
  },
  {
   "cell_type": "code",
   "execution_count": 75,
   "id": "c532f43c-784a-426f-9042-e075a5bf924a",
   "metadata": {},
   "outputs": [
    {
     "data": {
      "text/plain": [
       "school_name\n",
       "Bailey High School       4976\n",
       "Cabrera High School      1858\n",
       "Figueroa High School     2949\n",
       "Ford High School         2739\n",
       "Griffin High School      1468\n",
       "Hernandez High School    4635\n",
       "Holden High School        427\n",
       "Huang High School        2917\n",
       "Johnson High School      4761\n",
       "Pena High School          962\n",
       "Rodriguez High School    3999\n",
       "Shelton High School      1761\n",
       "Thomas High School       1635\n",
       "Wilson High School       2283\n",
       "Wright High School       1800\n",
       "Name: Student ID, dtype: int64"
      ]
     },
     "execution_count": 75,
     "metadata": {},
     "output_type": "execute_result"
    }
   ],
   "source": [
    "# Calculate total students\n",
    "sch_studenttotal=schoolname['Student ID'].count()\n",
    "sch_studenttotal"
   ]
  },
  {
   "cell_type": "code",
   "execution_count": 76,
   "id": "84854451-6943-446c-9735-7fb912260f20",
   "metadata": {},
   "outputs": [
    {
     "data": {
      "text/plain": [
       "school_name\n",
       "Huang High School        1910635\n",
       "Figueroa High School     1884411\n",
       "Shelton High School      1056600\n",
       "Hernandez High School    3022020\n",
       "Griffin High School       917500\n",
       "Wilson High School       1319574\n",
       "Cabrera High School      1081356\n",
       "Bailey High School       3124928\n",
       "Holden High School        248087\n",
       "Pena High School          585858\n",
       "Wright High School       1049400\n",
       "Rodriguez High School    2547363\n",
       "Johnson High School      3094650\n",
       "Ford High School         1763916\n",
       "Thomas High School       1043130\n",
       "Name: budget, dtype: int64"
      ]
     },
     "execution_count": 76,
     "metadata": {},
     "output_type": "execute_result"
    }
   ],
   "source": [
    "# Calculate school budgets\n",
    "sch_budget=schooldf.set_index('school_name')['budget']\n",
    "sch_budget"
   ]
  },
  {
   "cell_type": "code",
   "execution_count": 77,
   "id": "2be300fb-491e-4073-9cfb-141458c6a5e3",
   "metadata": {},
   "outputs": [
    {
     "data": {
      "text/plain": [
       "school_name\n",
       "Huang High School        655.0\n",
       "Figueroa High School     639.0\n",
       "Shelton High School      600.0\n",
       "Hernandez High School    652.0\n",
       "Griffin High School      625.0\n",
       "Wilson High School       578.0\n",
       "Cabrera High School      582.0\n",
       "Bailey High School       628.0\n",
       "Holden High School       581.0\n",
       "Pena High School         609.0\n",
       "Wright High School       583.0\n",
       "Rodriguez High School    637.0\n",
       "Johnson High School      650.0\n",
       "Ford High School         644.0\n",
       "Thomas High School       638.0\n",
       "dtype: float64"
      ]
     },
     "execution_count": 77,
     "metadata": {},
     "output_type": "execute_result"
    }
   ],
   "source": [
    "# Calculate budget per student\n",
    "perstud_budget=(schooldf.set_index('school_name')['budget']/schooldf.set_index('school_name')['size'])\n",
    "perstud_budget"
   ]
  },
  {
   "cell_type": "code",
   "execution_count": 79,
   "id": "47f73192-1cb9-428f-841c-409e58d6146d",
   "metadata": {},
   "outputs": [
    {
     "data": {
      "text/plain": [
       "school_name\n",
       "Bailey High School       77.048432\n",
       "Cabrera High School      83.061895\n",
       "Figueroa High School     76.711767\n",
       "Ford High School         77.102592\n",
       "Griffin High School      83.351499\n",
       "Hernandez High School    77.289752\n",
       "Holden High School       83.803279\n",
       "Huang High School        76.629414\n",
       "Johnson High School      77.072464\n",
       "Pena High School         83.839917\n",
       "Rodriguez High School    76.842711\n",
       "Shelton High School      83.359455\n",
       "Thomas High School       83.418349\n",
       "Wilson High School       83.274201\n",
       "Wright High School       83.682222\n",
       "Name: math_score, dtype: float64"
      ]
     },
     "execution_count": 79,
     "metadata": {},
     "output_type": "execute_result"
    }
   ],
   "source": [
    "# Calculate average math score at each school\n",
    "sch_avgmath=schoolname['math_score'].mean()\n",
    "sch_avgmath"
   ]
  },
  {
   "cell_type": "code",
   "execution_count": 80,
   "id": "1fe251db-511b-4fb1-bc45-b5d0d6284983",
   "metadata": {},
   "outputs": [
    {
     "data": {
      "text/plain": [
       "school_name\n",
       "Bailey High School       81.033963\n",
       "Cabrera High School      83.975780\n",
       "Figueroa High School     81.158020\n",
       "Ford High School         80.746258\n",
       "Griffin High School      83.816757\n",
       "Hernandez High School    80.934412\n",
       "Holden High School       83.814988\n",
       "Huang High School        81.182722\n",
       "Johnson High School      80.966394\n",
       "Pena High School         84.044699\n",
       "Rodriguez High School    80.744686\n",
       "Shelton High School      83.725724\n",
       "Thomas High School       83.848930\n",
       "Wilson High School       83.989488\n",
       "Wright High School       83.955000\n",
       "Name: reading_score, dtype: float64"
      ]
     },
     "execution_count": 80,
     "metadata": {},
     "output_type": "execute_result"
    }
   ],
   "source": [
    "# Calculate average reading score at each school\n",
    "sch_avgread=schoolname['reading_score'].mean()\n",
    "sch_avgread"
   ]
  },
  {
   "cell_type": "code",
   "execution_count": 81,
   "id": "0aa9c739-4593-4287-9b8a-440ef0f4b921",
   "metadata": {},
   "outputs": [
    {
     "data": {
      "text/plain": [
       "school_name\n",
       "Bailey High School       66.680064\n",
       "Cabrera High School      94.133477\n",
       "Figueroa High School     65.988471\n",
       "Ford High School         68.309602\n",
       "Griffin High School      93.392371\n",
       "Hernandez High School    66.752967\n",
       "Holden High School       92.505855\n",
       "Huang High School        65.683922\n",
       "Johnson High School      66.057551\n",
       "Pena High School         94.594595\n",
       "Rodriguez High School    66.366592\n",
       "Shelton High School      93.867121\n",
       "Thomas High School       93.272171\n",
       "Wilson High School       93.867718\n",
       "Wright High School       93.333333\n",
       "Name: Student ID, dtype: float64"
      ]
     },
     "execution_count": 81,
     "metadata": {},
     "output_type": "execute_result"
    }
   ],
   "source": [
    "# Calculate percentage passing math at each school\n",
    "sch_per_mathpass= maindf[maindf['math_score'] >= 70].groupby('school_name')['Student ID'].count()/sch_studenttotal*100\n",
    "sch_per_mathpass"
   ]
  },
  {
   "cell_type": "code",
   "execution_count": 82,
   "id": "b8a3ab56-1df3-4540-8c5d-6a615b038d7e",
   "metadata": {},
   "outputs": [
    {
     "data": {
      "text/plain": [
       "school_name\n",
       "Bailey High School       81.933280\n",
       "Cabrera High School      97.039828\n",
       "Figueroa High School     80.739234\n",
       "Ford High School         79.299014\n",
       "Griffin High School      97.138965\n",
       "Hernandez High School    80.862999\n",
       "Holden High School       96.252927\n",
       "Huang High School        81.316421\n",
       "Johnson High School      81.222432\n",
       "Pena High School         95.945946\n",
       "Rodriguez High School    80.220055\n",
       "Shelton High School      95.854628\n",
       "Thomas High School       97.308869\n",
       "Wilson High School       96.539641\n",
       "Wright High School       96.611111\n",
       "Name: Student ID, dtype: float64"
      ]
     },
     "execution_count": 82,
     "metadata": {},
     "output_type": "execute_result"
    }
   ],
   "source": [
    "# Calculate percentage passing read at each school\n",
    "sch_per_readpass= maindf[maindf['reading_score'] >= 70].groupby('school_name')['Student ID'].count()/sch_studenttotal*100\n",
    "sch_per_readpass"
   ]
  },
  {
   "cell_type": "code",
   "execution_count": 83,
   "id": "7cf06199-0615-4da1-aca4-30c0e02c238e",
   "metadata": {},
   "outputs": [
    {
     "data": {
      "text/plain": [
       "school_name\n",
       "Bailey High School       54.642283\n",
       "Cabrera High School      91.334769\n",
       "Figueroa High School     53.204476\n",
       "Ford High School         54.289887\n",
       "Griffin High School      90.599455\n",
       "Hernandez High School    53.527508\n",
       "Holden High School       89.227166\n",
       "Huang High School        53.513884\n",
       "Johnson High School      53.539172\n",
       "Pena High School         90.540541\n",
       "Rodriguez High School    52.988247\n",
       "Shelton High School      89.892107\n",
       "Thomas High School       90.948012\n",
       "Wilson High School       90.582567\n",
       "Wright High School       90.333333\n",
       "Name: Student ID, dtype: float64"
      ]
     },
     "execution_count": 83,
     "metadata": {},
     "output_type": "execute_result"
    }
   ],
   "source": [
    "# Calculate percentage passing both at each school\n",
    "sch_per_duopass= maindf[(maindf['reading_score'] >= 70) & (maindf['math_score'] >= 70)].groupby('school_name')['Student ID'].count()/sch_studenttotal*100\n",
    "sch_per_duopass"
   ]
  },
  {
   "cell_type": "code",
   "execution_count": 97,
   "id": "f4702293-6dd1-45e6-9a72-5ccfb64660ac",
   "metadata": {},
   "outputs": [
    {
     "data": {
      "text/html": [
       "<div>\n",
       "<style scoped>\n",
       "    .dataframe tbody tr th:only-of-type {\n",
       "        vertical-align: middle;\n",
       "    }\n",
       "\n",
       "    .dataframe tbody tr th {\n",
       "        vertical-align: top;\n",
       "    }\n",
       "\n",
       "    .dataframe thead th {\n",
       "        text-align: right;\n",
       "    }\n",
       "</style>\n",
       "<table border=\"1\" class=\"dataframe\">\n",
       "  <thead>\n",
       "    <tr style=\"text-align: right;\">\n",
       "      <th></th>\n",
       "      <th>School Type</th>\n",
       "      <th>Total Students</th>\n",
       "      <th>Total School Budget</th>\n",
       "      <th>Per Student Budget</th>\n",
       "      <th>Avg Math Score</th>\n",
       "      <th>Avg Reading Score</th>\n",
       "      <th>% Passing Math</th>\n",
       "      <th>% Passing Reading</th>\n",
       "      <th>% Passing Both</th>\n",
       "    </tr>\n",
       "    <tr>\n",
       "      <th>school_name</th>\n",
       "      <th></th>\n",
       "      <th></th>\n",
       "      <th></th>\n",
       "      <th></th>\n",
       "      <th></th>\n",
       "      <th></th>\n",
       "      <th></th>\n",
       "      <th></th>\n",
       "      <th></th>\n",
       "    </tr>\n",
       "  </thead>\n",
       "  <tbody>\n",
       "    <tr>\n",
       "      <th>Bailey High School</th>\n",
       "      <td>District</td>\n",
       "      <td>4976</td>\n",
       "      <td>$3,124,928.00</td>\n",
       "      <td>$628.00</td>\n",
       "      <td>77.05</td>\n",
       "      <td>81.03</td>\n",
       "      <td>66.68%</td>\n",
       "      <td>81.93%</td>\n",
       "      <td>54.64%</td>\n",
       "    </tr>\n",
       "    <tr>\n",
       "      <th>Cabrera High School</th>\n",
       "      <td>Charter</td>\n",
       "      <td>1858</td>\n",
       "      <td>$1,081,356.00</td>\n",
       "      <td>$582.00</td>\n",
       "      <td>83.06</td>\n",
       "      <td>83.98</td>\n",
       "      <td>94.13%</td>\n",
       "      <td>97.04%</td>\n",
       "      <td>91.33%</td>\n",
       "    </tr>\n",
       "    <tr>\n",
       "      <th>Figueroa High School</th>\n",
       "      <td>District</td>\n",
       "      <td>2949</td>\n",
       "      <td>$1,884,411.00</td>\n",
       "      <td>$639.00</td>\n",
       "      <td>76.71</td>\n",
       "      <td>81.16</td>\n",
       "      <td>65.99%</td>\n",
       "      <td>80.74%</td>\n",
       "      <td>53.20%</td>\n",
       "    </tr>\n",
       "    <tr>\n",
       "      <th>Ford High School</th>\n",
       "      <td>District</td>\n",
       "      <td>2739</td>\n",
       "      <td>$1,763,916.00</td>\n",
       "      <td>$644.00</td>\n",
       "      <td>77.10</td>\n",
       "      <td>80.75</td>\n",
       "      <td>68.31%</td>\n",
       "      <td>79.30%</td>\n",
       "      <td>54.29%</td>\n",
       "    </tr>\n",
       "  </tbody>\n",
       "</table>\n",
       "</div>"
      ],
      "text/plain": [
       "                     School Type  Total Students Total School Budget  \\\n",
       "school_name                                                            \n",
       "Bailey High School      District            4976       $3,124,928.00   \n",
       "Cabrera High School      Charter            1858       $1,081,356.00   \n",
       "Figueroa High School    District            2949       $1,884,411.00   \n",
       "Ford High School        District            2739       $1,763,916.00   \n",
       "\n",
       "                     Per Student Budget Avg Math Score Avg Reading Score  \\\n",
       "school_name                                                                \n",
       "Bailey High School              $628.00          77.05             81.03   \n",
       "Cabrera High School             $582.00          83.06             83.98   \n",
       "Figueroa High School            $639.00          76.71             81.16   \n",
       "Ford High School                $644.00          77.10             80.75   \n",
       "\n",
       "                     % Passing Math % Passing Reading % Passing Both  \n",
       "school_name                                                           \n",
       "Bailey High School           66.68%            81.93%         54.64%  \n",
       "Cabrera High School          94.13%            97.04%         91.33%  \n",
       "Figueroa High School         65.99%            80.74%         53.20%  \n",
       "Ford High School             68.31%            79.30%         54.29%  "
      ]
     },
     "execution_count": 97,
     "metadata": {},
     "output_type": "execute_result"
    }
   ],
   "source": [
    "# Summarize key metrics for schools\n",
    "\n",
    "schoolsum=pd.DataFrame({\n",
    "    \"School Type\": school_type,\n",
    "    \"Total Students\": sch_studenttotal,\n",
    "    \"Total School Budget\": sch_budget,\n",
    "    \"Per Student Budget\": perstud_budget,\n",
    "    \"Avg Math Score\": sch_avgmath,\n",
    "    \"Avg Reading Score\": sch_avgread,\n",
    "    \"% Passing Math\": sch_per_mathpass,\n",
    "    \"% Passing Reading\":sch_per_readpass,\n",
    "    \"% Passing Both\":sch_per_duopass\n",
    "})\n",
    "\n",
    "schoolsum['Total School Budget']=schoolsum['Total School Budget'].map('${:,.2f}'.format)\n",
    "schoolsum['Per Student Budget']=schoolsum['Per Student Budget'].map('${:,.2f}'.format)\n",
    "schoolsum['Avg Math Score']=schoolsum['Avg Math Score'].map('{:,.2f}'.format)\n",
    "schoolsum['Avg Reading Score']=schoolsum['Avg Reading Score'].map('{:,.2f}'.format)\n",
    "schoolsum[\"% Passing Math\"]=schoolsum[\"% Passing Math\"].map('{:,.2f}%'.format)\n",
    "schoolsum[\"% Passing Reading\"]=schoolsum[ \"% Passing Reading\"].map('{:,.2f}%'.format)\n",
    "schoolsum[\"% Passing Both\"]=schoolsum[\"% Passing Both\"].map('{:,.2f}%'.format)\n",
    "\n",
    "schoolsum.head(4)"
   ]
  },
  {
   "cell_type": "code",
   "execution_count": 99,
   "id": "1189a43d-5352-4760-aee3-cf3d443fefcf",
   "metadata": {},
   "outputs": [
    {
     "data": {
      "text/html": [
       "<div>\n",
       "<style scoped>\n",
       "    .dataframe tbody tr th:only-of-type {\n",
       "        vertical-align: middle;\n",
       "    }\n",
       "\n",
       "    .dataframe tbody tr th {\n",
       "        vertical-align: top;\n",
       "    }\n",
       "\n",
       "    .dataframe thead th {\n",
       "        text-align: right;\n",
       "    }\n",
       "</style>\n",
       "<table border=\"1\" class=\"dataframe\">\n",
       "  <thead>\n",
       "    <tr style=\"text-align: right;\">\n",
       "      <th></th>\n",
       "      <th>School Type</th>\n",
       "      <th>Total Students</th>\n",
       "      <th>Total School Budget</th>\n",
       "      <th>Per Student Budget</th>\n",
       "      <th>Avg Math Score</th>\n",
       "      <th>Avg Reading Score</th>\n",
       "      <th>% Passing Math</th>\n",
       "      <th>% Passing Reading</th>\n",
       "      <th>% Passing Both</th>\n",
       "    </tr>\n",
       "    <tr>\n",
       "      <th>school_name</th>\n",
       "      <th></th>\n",
       "      <th></th>\n",
       "      <th></th>\n",
       "      <th></th>\n",
       "      <th></th>\n",
       "      <th></th>\n",
       "      <th></th>\n",
       "      <th></th>\n",
       "      <th></th>\n",
       "    </tr>\n",
       "  </thead>\n",
       "  <tbody>\n",
       "    <tr>\n",
       "      <th>Cabrera High School</th>\n",
       "      <td>Charter</td>\n",
       "      <td>1858</td>\n",
       "      <td>$1,081,356.00</td>\n",
       "      <td>$582.00</td>\n",
       "      <td>83.06</td>\n",
       "      <td>83.98</td>\n",
       "      <td>94.13%</td>\n",
       "      <td>97.04%</td>\n",
       "      <td>91.33%</td>\n",
       "    </tr>\n",
       "    <tr>\n",
       "      <th>Thomas High School</th>\n",
       "      <td>Charter</td>\n",
       "      <td>1635</td>\n",
       "      <td>$1,043,130.00</td>\n",
       "      <td>$638.00</td>\n",
       "      <td>83.42</td>\n",
       "      <td>83.85</td>\n",
       "      <td>93.27%</td>\n",
       "      <td>97.31%</td>\n",
       "      <td>90.95%</td>\n",
       "    </tr>\n",
       "    <tr>\n",
       "      <th>Griffin High School</th>\n",
       "      <td>Charter</td>\n",
       "      <td>1468</td>\n",
       "      <td>$917,500.00</td>\n",
       "      <td>$625.00</td>\n",
       "      <td>83.35</td>\n",
       "      <td>83.82</td>\n",
       "      <td>93.39%</td>\n",
       "      <td>97.14%</td>\n",
       "      <td>90.60%</td>\n",
       "    </tr>\n",
       "    <tr>\n",
       "      <th>Wilson High School</th>\n",
       "      <td>Charter</td>\n",
       "      <td>2283</td>\n",
       "      <td>$1,319,574.00</td>\n",
       "      <td>$578.00</td>\n",
       "      <td>83.27</td>\n",
       "      <td>83.99</td>\n",
       "      <td>93.87%</td>\n",
       "      <td>96.54%</td>\n",
       "      <td>90.58%</td>\n",
       "    </tr>\n",
       "    <tr>\n",
       "      <th>Pena High School</th>\n",
       "      <td>Charter</td>\n",
       "      <td>962</td>\n",
       "      <td>$585,858.00</td>\n",
       "      <td>$609.00</td>\n",
       "      <td>83.84</td>\n",
       "      <td>84.04</td>\n",
       "      <td>94.59%</td>\n",
       "      <td>95.95%</td>\n",
       "      <td>90.54%</td>\n",
       "    </tr>\n",
       "  </tbody>\n",
       "</table>\n",
       "</div>"
      ],
      "text/plain": [
       "                    School Type  Total Students Total School Budget  \\\n",
       "school_name                                                           \n",
       "Cabrera High School     Charter            1858       $1,081,356.00   \n",
       "Thomas High School      Charter            1635       $1,043,130.00   \n",
       "Griffin High School     Charter            1468         $917,500.00   \n",
       "Wilson High School      Charter            2283       $1,319,574.00   \n",
       "Pena High School        Charter             962         $585,858.00   \n",
       "\n",
       "                    Per Student Budget Avg Math Score Avg Reading Score  \\\n",
       "school_name                                                               \n",
       "Cabrera High School            $582.00          83.06             83.98   \n",
       "Thomas High School             $638.00          83.42             83.85   \n",
       "Griffin High School            $625.00          83.35             83.82   \n",
       "Wilson High School             $578.00          83.27             83.99   \n",
       "Pena High School               $609.00          83.84             84.04   \n",
       "\n",
       "                    % Passing Math % Passing Reading % Passing Both  \n",
       "school_name                                                          \n",
       "Cabrera High School         94.13%            97.04%         91.33%  \n",
       "Thomas High School          93.27%            97.31%         90.95%  \n",
       "Griffin High School         93.39%            97.14%         90.60%  \n",
       "Wilson High School          93.87%            96.54%         90.58%  \n",
       "Pena High School            94.59%            95.95%         90.54%  "
      ]
     },
     "execution_count": 99,
     "metadata": {},
     "output_type": "execute_result"
    }
   ],
   "source": [
    "# Sort and display top 5 schools by passing rate\n",
    "high_perform= schoolsum.sort_values('% Passing Both', ascending=False)\n",
    "high_perform.head(5)"
   ]
  },
  {
   "cell_type": "code",
   "execution_count": 100,
   "id": "a2ef6c67-24f0-4155-b202-0121476d8d0f",
   "metadata": {},
   "outputs": [
    {
     "data": {
      "text/html": [
       "<div>\n",
       "<style scoped>\n",
       "    .dataframe tbody tr th:only-of-type {\n",
       "        vertical-align: middle;\n",
       "    }\n",
       "\n",
       "    .dataframe tbody tr th {\n",
       "        vertical-align: top;\n",
       "    }\n",
       "\n",
       "    .dataframe thead th {\n",
       "        text-align: right;\n",
       "    }\n",
       "</style>\n",
       "<table border=\"1\" class=\"dataframe\">\n",
       "  <thead>\n",
       "    <tr style=\"text-align: right;\">\n",
       "      <th></th>\n",
       "      <th>School Type</th>\n",
       "      <th>Total Students</th>\n",
       "      <th>Total School Budget</th>\n",
       "      <th>Per Student Budget</th>\n",
       "      <th>Avg Math Score</th>\n",
       "      <th>Avg Reading Score</th>\n",
       "      <th>% Passing Math</th>\n",
       "      <th>% Passing Reading</th>\n",
       "      <th>% Passing Both</th>\n",
       "    </tr>\n",
       "    <tr>\n",
       "      <th>school_name</th>\n",
       "      <th></th>\n",
       "      <th></th>\n",
       "      <th></th>\n",
       "      <th></th>\n",
       "      <th></th>\n",
       "      <th></th>\n",
       "      <th></th>\n",
       "      <th></th>\n",
       "      <th></th>\n",
       "    </tr>\n",
       "  </thead>\n",
       "  <tbody>\n",
       "    <tr>\n",
       "      <th>Rodriguez High School</th>\n",
       "      <td>District</td>\n",
       "      <td>3999</td>\n",
       "      <td>$2,547,363.00</td>\n",
       "      <td>$637.00</td>\n",
       "      <td>76.84</td>\n",
       "      <td>80.74</td>\n",
       "      <td>66.37%</td>\n",
       "      <td>80.22%</td>\n",
       "      <td>52.99%</td>\n",
       "    </tr>\n",
       "    <tr>\n",
       "      <th>Figueroa High School</th>\n",
       "      <td>District</td>\n",
       "      <td>2949</td>\n",
       "      <td>$1,884,411.00</td>\n",
       "      <td>$639.00</td>\n",
       "      <td>76.71</td>\n",
       "      <td>81.16</td>\n",
       "      <td>65.99%</td>\n",
       "      <td>80.74%</td>\n",
       "      <td>53.20%</td>\n",
       "    </tr>\n",
       "    <tr>\n",
       "      <th>Huang High School</th>\n",
       "      <td>District</td>\n",
       "      <td>2917</td>\n",
       "      <td>$1,910,635.00</td>\n",
       "      <td>$655.00</td>\n",
       "      <td>76.63</td>\n",
       "      <td>81.18</td>\n",
       "      <td>65.68%</td>\n",
       "      <td>81.32%</td>\n",
       "      <td>53.51%</td>\n",
       "    </tr>\n",
       "    <tr>\n",
       "      <th>Hernandez High School</th>\n",
       "      <td>District</td>\n",
       "      <td>4635</td>\n",
       "      <td>$3,022,020.00</td>\n",
       "      <td>$652.00</td>\n",
       "      <td>77.29</td>\n",
       "      <td>80.93</td>\n",
       "      <td>66.75%</td>\n",
       "      <td>80.86%</td>\n",
       "      <td>53.53%</td>\n",
       "    </tr>\n",
       "    <tr>\n",
       "      <th>Johnson High School</th>\n",
       "      <td>District</td>\n",
       "      <td>4761</td>\n",
       "      <td>$3,094,650.00</td>\n",
       "      <td>$650.00</td>\n",
       "      <td>77.07</td>\n",
       "      <td>80.97</td>\n",
       "      <td>66.06%</td>\n",
       "      <td>81.22%</td>\n",
       "      <td>53.54%</td>\n",
       "    </tr>\n",
       "  </tbody>\n",
       "</table>\n",
       "</div>"
      ],
      "text/plain": [
       "                      School Type  Total Students Total School Budget  \\\n",
       "school_name                                                             \n",
       "Rodriguez High School    District            3999       $2,547,363.00   \n",
       "Figueroa High School     District            2949       $1,884,411.00   \n",
       "Huang High School        District            2917       $1,910,635.00   \n",
       "Hernandez High School    District            4635       $3,022,020.00   \n",
       "Johnson High School      District            4761       $3,094,650.00   \n",
       "\n",
       "                      Per Student Budget Avg Math Score Avg Reading Score  \\\n",
       "school_name                                                                 \n",
       "Rodriguez High School            $637.00          76.84             80.74   \n",
       "Figueroa High School             $639.00          76.71             81.16   \n",
       "Huang High School                $655.00          76.63             81.18   \n",
       "Hernandez High School            $652.00          77.29             80.93   \n",
       "Johnson High School              $650.00          77.07             80.97   \n",
       "\n",
       "                      % Passing Math % Passing Reading % Passing Both  \n",
       "school_name                                                            \n",
       "Rodriguez High School         66.37%            80.22%         52.99%  \n",
       "Figueroa High School          65.99%            80.74%         53.20%  \n",
       "Huang High School             65.68%            81.32%         53.51%  \n",
       "Hernandez High School         66.75%            80.86%         53.53%  \n",
       "Johnson High School           66.06%            81.22%         53.54%  "
      ]
     },
     "execution_count": 100,
     "metadata": {},
     "output_type": "execute_result"
    }
   ],
   "source": [
    "# Sort and display bottom 5 schools by passing rate\n",
    "low_perform= schoolsum.sort_values('% Passing Both', ascending=True)\n",
    "low_perform.head(5)"
   ]
  },
  {
   "cell_type": "code",
   "execution_count": 103,
   "id": "63f9ca33-2d47-4351-ad6b-4194448fba09",
   "metadata": {},
   "outputs": [
    {
     "data": {
      "text/html": [
       "<style type=\"text/css\">\n",
       "</style>\n",
       "<table id=\"T_79ae1\">\n",
       "  <thead>\n",
       "    <tr>\n",
       "      <th class=\"blank level0\" >&nbsp;</th>\n",
       "      <th id=\"T_79ae1_level0_col0\" class=\"col_heading level0 col0\" >9th</th>\n",
       "      <th id=\"T_79ae1_level0_col1\" class=\"col_heading level0 col1\" >10th</th>\n",
       "      <th id=\"T_79ae1_level0_col2\" class=\"col_heading level0 col2\" >11th</th>\n",
       "      <th id=\"T_79ae1_level0_col3\" class=\"col_heading level0 col3\" >12th</th>\n",
       "    </tr>\n",
       "    <tr>\n",
       "      <th class=\"index_name level0\" >School Name</th>\n",
       "      <th class=\"blank col0\" >&nbsp;</th>\n",
       "      <th class=\"blank col1\" >&nbsp;</th>\n",
       "      <th class=\"blank col2\" >&nbsp;</th>\n",
       "      <th class=\"blank col3\" >&nbsp;</th>\n",
       "    </tr>\n",
       "  </thead>\n",
       "  <tbody>\n",
       "    <tr>\n",
       "      <th id=\"T_79ae1_level0_row0\" class=\"row_heading level0 row0\" >Bailey High School</th>\n",
       "      <td id=\"T_79ae1_row0_col0\" class=\"data row0 col0\" >77.08</td>\n",
       "      <td id=\"T_79ae1_row0_col1\" class=\"data row0 col1\" >77.00</td>\n",
       "      <td id=\"T_79ae1_row0_col2\" class=\"data row0 col2\" >77.52</td>\n",
       "      <td id=\"T_79ae1_row0_col3\" class=\"data row0 col3\" >76.49</td>\n",
       "    </tr>\n",
       "    <tr>\n",
       "      <th id=\"T_79ae1_level0_row1\" class=\"row_heading level0 row1\" >Cabrera High School</th>\n",
       "      <td id=\"T_79ae1_row1_col0\" class=\"data row1 col0\" >83.09</td>\n",
       "      <td id=\"T_79ae1_row1_col1\" class=\"data row1 col1\" >83.15</td>\n",
       "      <td id=\"T_79ae1_row1_col2\" class=\"data row1 col2\" >82.77</td>\n",
       "      <td id=\"T_79ae1_row1_col3\" class=\"data row1 col3\" >83.28</td>\n",
       "    </tr>\n",
       "    <tr>\n",
       "      <th id=\"T_79ae1_level0_row2\" class=\"row_heading level0 row2\" >Figueroa High School</th>\n",
       "      <td id=\"T_79ae1_row2_col0\" class=\"data row2 col0\" >76.40</td>\n",
       "      <td id=\"T_79ae1_row2_col1\" class=\"data row2 col1\" >76.54</td>\n",
       "      <td id=\"T_79ae1_row2_col2\" class=\"data row2 col2\" >76.88</td>\n",
       "      <td id=\"T_79ae1_row2_col3\" class=\"data row2 col3\" >77.15</td>\n",
       "    </tr>\n",
       "    <tr>\n",
       "      <th id=\"T_79ae1_level0_row3\" class=\"row_heading level0 row3\" >Ford High School</th>\n",
       "      <td id=\"T_79ae1_row3_col0\" class=\"data row3 col0\" >77.36</td>\n",
       "      <td id=\"T_79ae1_row3_col1\" class=\"data row3 col1\" >77.67</td>\n",
       "      <td id=\"T_79ae1_row3_col2\" class=\"data row3 col2\" >76.92</td>\n",
       "      <td id=\"T_79ae1_row3_col3\" class=\"data row3 col3\" >76.18</td>\n",
       "    </tr>\n",
       "    <tr>\n",
       "      <th id=\"T_79ae1_level0_row4\" class=\"row_heading level0 row4\" >Griffin High School</th>\n",
       "      <td id=\"T_79ae1_row4_col0\" class=\"data row4 col0\" >82.04</td>\n",
       "      <td id=\"T_79ae1_row4_col1\" class=\"data row4 col1\" >84.23</td>\n",
       "      <td id=\"T_79ae1_row4_col2\" class=\"data row4 col2\" >83.84</td>\n",
       "      <td id=\"T_79ae1_row4_col3\" class=\"data row4 col3\" >83.36</td>\n",
       "    </tr>\n",
       "    <tr>\n",
       "      <th id=\"T_79ae1_level0_row5\" class=\"row_heading level0 row5\" >Hernandez High School</th>\n",
       "      <td id=\"T_79ae1_row5_col0\" class=\"data row5 col0\" >77.44</td>\n",
       "      <td id=\"T_79ae1_row5_col1\" class=\"data row5 col1\" >77.34</td>\n",
       "      <td id=\"T_79ae1_row5_col2\" class=\"data row5 col2\" >77.14</td>\n",
       "      <td id=\"T_79ae1_row5_col3\" class=\"data row5 col3\" >77.19</td>\n",
       "    </tr>\n",
       "    <tr>\n",
       "      <th id=\"T_79ae1_level0_row6\" class=\"row_heading level0 row6\" >Holden High School</th>\n",
       "      <td id=\"T_79ae1_row6_col0\" class=\"data row6 col0\" >83.79</td>\n",
       "      <td id=\"T_79ae1_row6_col1\" class=\"data row6 col1\" >83.43</td>\n",
       "      <td id=\"T_79ae1_row6_col2\" class=\"data row6 col2\" >85.00</td>\n",
       "      <td id=\"T_79ae1_row6_col3\" class=\"data row6 col3\" >82.86</td>\n",
       "    </tr>\n",
       "    <tr>\n",
       "      <th id=\"T_79ae1_level0_row7\" class=\"row_heading level0 row7\" >Huang High School</th>\n",
       "      <td id=\"T_79ae1_row7_col0\" class=\"data row7 col0\" >77.03</td>\n",
       "      <td id=\"T_79ae1_row7_col1\" class=\"data row7 col1\" >75.91</td>\n",
       "      <td id=\"T_79ae1_row7_col2\" class=\"data row7 col2\" >76.45</td>\n",
       "      <td id=\"T_79ae1_row7_col3\" class=\"data row7 col3\" >77.23</td>\n",
       "    </tr>\n",
       "    <tr>\n",
       "      <th id=\"T_79ae1_level0_row8\" class=\"row_heading level0 row8\" >Johnson High School</th>\n",
       "      <td id=\"T_79ae1_row8_col0\" class=\"data row8 col0\" >77.19</td>\n",
       "      <td id=\"T_79ae1_row8_col1\" class=\"data row8 col1\" >76.69</td>\n",
       "      <td id=\"T_79ae1_row8_col2\" class=\"data row8 col2\" >77.49</td>\n",
       "      <td id=\"T_79ae1_row8_col3\" class=\"data row8 col3\" >76.86</td>\n",
       "    </tr>\n",
       "    <tr>\n",
       "      <th id=\"T_79ae1_level0_row9\" class=\"row_heading level0 row9\" >Pena High School</th>\n",
       "      <td id=\"T_79ae1_row9_col0\" class=\"data row9 col0\" >83.63</td>\n",
       "      <td id=\"T_79ae1_row9_col1\" class=\"data row9 col1\" >83.37</td>\n",
       "      <td id=\"T_79ae1_row9_col2\" class=\"data row9 col2\" >84.33</td>\n",
       "      <td id=\"T_79ae1_row9_col3\" class=\"data row9 col3\" >84.12</td>\n",
       "    </tr>\n",
       "    <tr>\n",
       "      <th id=\"T_79ae1_level0_row10\" class=\"row_heading level0 row10\" >Rodriguez High School</th>\n",
       "      <td id=\"T_79ae1_row10_col0\" class=\"data row10 col0\" >76.86</td>\n",
       "      <td id=\"T_79ae1_row10_col1\" class=\"data row10 col1\" >76.61</td>\n",
       "      <td id=\"T_79ae1_row10_col2\" class=\"data row10 col2\" >76.40</td>\n",
       "      <td id=\"T_79ae1_row10_col3\" class=\"data row10 col3\" >77.69</td>\n",
       "    </tr>\n",
       "    <tr>\n",
       "      <th id=\"T_79ae1_level0_row11\" class=\"row_heading level0 row11\" >Shelton High School</th>\n",
       "      <td id=\"T_79ae1_row11_col0\" class=\"data row11 col0\" >83.42</td>\n",
       "      <td id=\"T_79ae1_row11_col1\" class=\"data row11 col1\" >82.92</td>\n",
       "      <td id=\"T_79ae1_row11_col2\" class=\"data row11 col2\" >83.38</td>\n",
       "      <td id=\"T_79ae1_row11_col3\" class=\"data row11 col3\" >83.78</td>\n",
       "    </tr>\n",
       "    <tr>\n",
       "      <th id=\"T_79ae1_level0_row12\" class=\"row_heading level0 row12\" >Thomas High School</th>\n",
       "      <td id=\"T_79ae1_row12_col0\" class=\"data row12 col0\" >83.59</td>\n",
       "      <td id=\"T_79ae1_row12_col1\" class=\"data row12 col1\" >83.09</td>\n",
       "      <td id=\"T_79ae1_row12_col2\" class=\"data row12 col2\" >83.50</td>\n",
       "      <td id=\"T_79ae1_row12_col3\" class=\"data row12 col3\" >83.50</td>\n",
       "    </tr>\n",
       "    <tr>\n",
       "      <th id=\"T_79ae1_level0_row13\" class=\"row_heading level0 row13\" >Wilson High School</th>\n",
       "      <td id=\"T_79ae1_row13_col0\" class=\"data row13 col0\" >83.09</td>\n",
       "      <td id=\"T_79ae1_row13_col1\" class=\"data row13 col1\" >83.72</td>\n",
       "      <td id=\"T_79ae1_row13_col2\" class=\"data row13 col2\" >83.20</td>\n",
       "      <td id=\"T_79ae1_row13_col3\" class=\"data row13 col3\" >83.04</td>\n",
       "    </tr>\n",
       "    <tr>\n",
       "      <th id=\"T_79ae1_level0_row14\" class=\"row_heading level0 row14\" >Wright High School</th>\n",
       "      <td id=\"T_79ae1_row14_col0\" class=\"data row14 col0\" >83.26</td>\n",
       "      <td id=\"T_79ae1_row14_col1\" class=\"data row14 col1\" >84.01</td>\n",
       "      <td id=\"T_79ae1_row14_col2\" class=\"data row14 col2\" >83.84</td>\n",
       "      <td id=\"T_79ae1_row14_col3\" class=\"data row14 col3\" >83.64</td>\n",
       "    </tr>\n",
       "  </tbody>\n",
       "</table>\n"
      ],
      "text/plain": [
       "<pandas.io.formats.style.Styler at 0x1fceb899250>"
      ]
     },
     "execution_count": 103,
     "metadata": {},
     "output_type": "execute_result"
    }
   ],
   "source": [
    "# Creates grade level average math scores for each school (copy/pasted starter code)\n",
    "ninth_math = studentdf.loc[studentdf['grade'] == '9th'].groupby('school_name')[\"math_score\"].mean()\n",
    "tenth_math = studentdf.loc[studentdf['grade'] == '10th'].groupby('school_name')[\"math_score\"].mean()\n",
    "eleventh_math = studentdf.loc[studentdf['grade'] == '11th'].groupby('school_name')[\"math_score\"].mean()\n",
    "twelfth_math = studentdf.loc[studentdf['grade'] == '12th'].groupby('school_name')[\"math_score\"].mean()\n",
    "\n",
    "# Create df and merges the math score averages by school and grade together\n",
    "mathdf=pd.DataFrame({\n",
    "        \"9th\": ninth_math,\n",
    "        \"10th\": tenth_math,\n",
    "        \"11th\": eleventh_math,\n",
    "        \"12th\": twelfth_math\n",
    "})\n",
    "\n",
    "mathdf=mathdf[['9th', '10th', '11th', '12th']]\n",
    "mathdf.index.name=\"School Name\"\n",
    "\n",
    "# Format\n",
    "mathdf.style.format({'9th': '{:.2f}', \n",
    "                          \"10th\": '{:.2f}', \n",
    "                          \"11th\": \"{:.2f}\", \n",
    "                          \"12th\": \"{:.2f}\"})"
   ]
  },
  {
   "cell_type": "code",
   "execution_count": 104,
   "id": "0d8dd8a4-220b-4b83-ba43-134d4bd47f0c",
   "metadata": {},
   "outputs": [
    {
     "data": {
      "text/html": [
       "<style type=\"text/css\">\n",
       "</style>\n",
       "<table id=\"T_2e89f\">\n",
       "  <thead>\n",
       "    <tr>\n",
       "      <th class=\"blank level0\" >&nbsp;</th>\n",
       "      <th id=\"T_2e89f_level0_col0\" class=\"col_heading level0 col0\" >9th</th>\n",
       "      <th id=\"T_2e89f_level0_col1\" class=\"col_heading level0 col1\" >10th</th>\n",
       "      <th id=\"T_2e89f_level0_col2\" class=\"col_heading level0 col2\" >11th</th>\n",
       "      <th id=\"T_2e89f_level0_col3\" class=\"col_heading level0 col3\" >12th</th>\n",
       "    </tr>\n",
       "    <tr>\n",
       "      <th class=\"index_name level0\" >School Name</th>\n",
       "      <th class=\"blank col0\" >&nbsp;</th>\n",
       "      <th class=\"blank col1\" >&nbsp;</th>\n",
       "      <th class=\"blank col2\" >&nbsp;</th>\n",
       "      <th class=\"blank col3\" >&nbsp;</th>\n",
       "    </tr>\n",
       "  </thead>\n",
       "  <tbody>\n",
       "    <tr>\n",
       "      <th id=\"T_2e89f_level0_row0\" class=\"row_heading level0 row0\" >Bailey High School</th>\n",
       "      <td id=\"T_2e89f_row0_col0\" class=\"data row0 col0\" >81.30</td>\n",
       "      <td id=\"T_2e89f_row0_col1\" class=\"data row0 col1\" >80.91</td>\n",
       "      <td id=\"T_2e89f_row0_col2\" class=\"data row0 col2\" >80.95</td>\n",
       "      <td id=\"T_2e89f_row0_col3\" class=\"data row0 col3\" >80.91</td>\n",
       "    </tr>\n",
       "    <tr>\n",
       "      <th id=\"T_2e89f_level0_row1\" class=\"row_heading level0 row1\" >Cabrera High School</th>\n",
       "      <td id=\"T_2e89f_row1_col0\" class=\"data row1 col0\" >83.68</td>\n",
       "      <td id=\"T_2e89f_row1_col1\" class=\"data row1 col1\" >84.25</td>\n",
       "      <td id=\"T_2e89f_row1_col2\" class=\"data row1 col2\" >83.79</td>\n",
       "      <td id=\"T_2e89f_row1_col3\" class=\"data row1 col3\" >84.29</td>\n",
       "    </tr>\n",
       "    <tr>\n",
       "      <th id=\"T_2e89f_level0_row2\" class=\"row_heading level0 row2\" >Figueroa High School</th>\n",
       "      <td id=\"T_2e89f_row2_col0\" class=\"data row2 col0\" >81.20</td>\n",
       "      <td id=\"T_2e89f_row2_col1\" class=\"data row2 col1\" >81.41</td>\n",
       "      <td id=\"T_2e89f_row2_col2\" class=\"data row2 col2\" >80.64</td>\n",
       "      <td id=\"T_2e89f_row2_col3\" class=\"data row2 col3\" >81.38</td>\n",
       "    </tr>\n",
       "    <tr>\n",
       "      <th id=\"T_2e89f_level0_row3\" class=\"row_heading level0 row3\" >Ford High School</th>\n",
       "      <td id=\"T_2e89f_row3_col0\" class=\"data row3 col0\" >80.63</td>\n",
       "      <td id=\"T_2e89f_row3_col1\" class=\"data row3 col1\" >81.26</td>\n",
       "      <td id=\"T_2e89f_row3_col2\" class=\"data row3 col2\" >80.40</td>\n",
       "      <td id=\"T_2e89f_row3_col3\" class=\"data row3 col3\" >80.66</td>\n",
       "    </tr>\n",
       "    <tr>\n",
       "      <th id=\"T_2e89f_level0_row4\" class=\"row_heading level0 row4\" >Griffin High School</th>\n",
       "      <td id=\"T_2e89f_row4_col0\" class=\"data row4 col0\" >83.37</td>\n",
       "      <td id=\"T_2e89f_row4_col1\" class=\"data row4 col1\" >83.71</td>\n",
       "      <td id=\"T_2e89f_row4_col2\" class=\"data row4 col2\" >84.29</td>\n",
       "      <td id=\"T_2e89f_row4_col3\" class=\"data row4 col3\" >84.01</td>\n",
       "    </tr>\n",
       "    <tr>\n",
       "      <th id=\"T_2e89f_level0_row5\" class=\"row_heading level0 row5\" >Hernandez High School</th>\n",
       "      <td id=\"T_2e89f_row5_col0\" class=\"data row5 col0\" >80.87</td>\n",
       "      <td id=\"T_2e89f_row5_col1\" class=\"data row5 col1\" >80.66</td>\n",
       "      <td id=\"T_2e89f_row5_col2\" class=\"data row5 col2\" >81.40</td>\n",
       "      <td id=\"T_2e89f_row5_col3\" class=\"data row5 col3\" >80.86</td>\n",
       "    </tr>\n",
       "    <tr>\n",
       "      <th id=\"T_2e89f_level0_row6\" class=\"row_heading level0 row6\" >Holden High School</th>\n",
       "      <td id=\"T_2e89f_row6_col0\" class=\"data row6 col0\" >83.68</td>\n",
       "      <td id=\"T_2e89f_row6_col1\" class=\"data row6 col1\" >83.32</td>\n",
       "      <td id=\"T_2e89f_row6_col2\" class=\"data row6 col2\" >83.82</td>\n",
       "      <td id=\"T_2e89f_row6_col3\" class=\"data row6 col3\" >84.70</td>\n",
       "    </tr>\n",
       "    <tr>\n",
       "      <th id=\"T_2e89f_level0_row7\" class=\"row_heading level0 row7\" >Huang High School</th>\n",
       "      <td id=\"T_2e89f_row7_col0\" class=\"data row7 col0\" >81.29</td>\n",
       "      <td id=\"T_2e89f_row7_col1\" class=\"data row7 col1\" >81.51</td>\n",
       "      <td id=\"T_2e89f_row7_col2\" class=\"data row7 col2\" >81.42</td>\n",
       "      <td id=\"T_2e89f_row7_col3\" class=\"data row7 col3\" >80.31</td>\n",
       "    </tr>\n",
       "    <tr>\n",
       "      <th id=\"T_2e89f_level0_row8\" class=\"row_heading level0 row8\" >Johnson High School</th>\n",
       "      <td id=\"T_2e89f_row8_col0\" class=\"data row8 col0\" >81.26</td>\n",
       "      <td id=\"T_2e89f_row8_col1\" class=\"data row8 col1\" >80.77</td>\n",
       "      <td id=\"T_2e89f_row8_col2\" class=\"data row8 col2\" >80.62</td>\n",
       "      <td id=\"T_2e89f_row8_col3\" class=\"data row8 col3\" >81.23</td>\n",
       "    </tr>\n",
       "    <tr>\n",
       "      <th id=\"T_2e89f_level0_row9\" class=\"row_heading level0 row9\" >Pena High School</th>\n",
       "      <td id=\"T_2e89f_row9_col0\" class=\"data row9 col0\" >83.81</td>\n",
       "      <td id=\"T_2e89f_row9_col1\" class=\"data row9 col1\" >83.61</td>\n",
       "      <td id=\"T_2e89f_row9_col2\" class=\"data row9 col2\" >84.34</td>\n",
       "      <td id=\"T_2e89f_row9_col3\" class=\"data row9 col3\" >84.59</td>\n",
       "    </tr>\n",
       "    <tr>\n",
       "      <th id=\"T_2e89f_level0_row10\" class=\"row_heading level0 row10\" >Rodriguez High School</th>\n",
       "      <td id=\"T_2e89f_row10_col0\" class=\"data row10 col0\" >80.99</td>\n",
       "      <td id=\"T_2e89f_row10_col1\" class=\"data row10 col1\" >80.63</td>\n",
       "      <td id=\"T_2e89f_row10_col2\" class=\"data row10 col2\" >80.86</td>\n",
       "      <td id=\"T_2e89f_row10_col3\" class=\"data row10 col3\" >80.38</td>\n",
       "    </tr>\n",
       "    <tr>\n",
       "      <th id=\"T_2e89f_level0_row11\" class=\"row_heading level0 row11\" >Shelton High School</th>\n",
       "      <td id=\"T_2e89f_row11_col0\" class=\"data row11 col0\" >84.12</td>\n",
       "      <td id=\"T_2e89f_row11_col1\" class=\"data row11 col1\" >83.44</td>\n",
       "      <td id=\"T_2e89f_row11_col2\" class=\"data row11 col2\" >84.37</td>\n",
       "      <td id=\"T_2e89f_row11_col3\" class=\"data row11 col3\" >82.78</td>\n",
       "    </tr>\n",
       "    <tr>\n",
       "      <th id=\"T_2e89f_level0_row12\" class=\"row_heading level0 row12\" >Thomas High School</th>\n",
       "      <td id=\"T_2e89f_row12_col0\" class=\"data row12 col0\" >83.73</td>\n",
       "      <td id=\"T_2e89f_row12_col1\" class=\"data row12 col1\" >84.25</td>\n",
       "      <td id=\"T_2e89f_row12_col2\" class=\"data row12 col2\" >83.59</td>\n",
       "      <td id=\"T_2e89f_row12_col3\" class=\"data row12 col3\" >83.83</td>\n",
       "    </tr>\n",
       "    <tr>\n",
       "      <th id=\"T_2e89f_level0_row13\" class=\"row_heading level0 row13\" >Wilson High School</th>\n",
       "      <td id=\"T_2e89f_row13_col0\" class=\"data row13 col0\" >83.94</td>\n",
       "      <td id=\"T_2e89f_row13_col1\" class=\"data row13 col1\" >84.02</td>\n",
       "      <td id=\"T_2e89f_row13_col2\" class=\"data row13 col2\" >83.76</td>\n",
       "      <td id=\"T_2e89f_row13_col3\" class=\"data row13 col3\" >84.32</td>\n",
       "    </tr>\n",
       "    <tr>\n",
       "      <th id=\"T_2e89f_level0_row14\" class=\"row_heading level0 row14\" >Wright High School</th>\n",
       "      <td id=\"T_2e89f_row14_col0\" class=\"data row14 col0\" >83.83</td>\n",
       "      <td id=\"T_2e89f_row14_col1\" class=\"data row14 col1\" >83.81</td>\n",
       "      <td id=\"T_2e89f_row14_col2\" class=\"data row14 col2\" >84.16</td>\n",
       "      <td id=\"T_2e89f_row14_col3\" class=\"data row14 col3\" >84.07</td>\n",
       "    </tr>\n",
       "  </tbody>\n",
       "</table>\n"
      ],
      "text/plain": [
       "<pandas.io.formats.style.Styler at 0x1fceb447220>"
      ]
     },
     "execution_count": 104,
     "metadata": {},
     "output_type": "execute_result"
    }
   ],
   "source": [
    "# Creates grade level average math scores for each school (copy/pasted starter code)\n",
    "ninth_reading = studentdf.loc[studentdf['grade'] == '9th'].groupby('school_name')[\"reading_score\"].mean()\n",
    "tenth_reading = studentdf.loc[studentdf['grade'] == '10th'].groupby('school_name')[\"reading_score\"].mean()\n",
    "eleventh_reading = studentdf.loc[studentdf['grade'] == '11th'].groupby('school_name')[\"reading_score\"].mean()\n",
    "twelfth_reading = studentdf.loc[studentdf['grade'] == '12th'].groupby('school_name')[\"reading_score\"].mean()\n",
    "\n",
    "# Create df and merges the reading score averages by school and grade together\n",
    "readingdf = pd.DataFrame({\n",
    "        \"9th\": ninth_reading,\n",
    "        \"10th\": tenth_reading,\n",
    "        \"11th\": eleventh_reading,\n",
    "        \"12th\": twelfth_reading\n",
    "})\n",
    "readingdf = readingdf[['9th', '10th', '11th', '12th']]\n",
    "readingdf.index.name = \"School Name\"\n",
    "\n",
    "# Format\n",
    "readingdf.style.format({'9th': '{:.2f}', \n",
    "                             \"10th\": '{:.2f}', \n",
    "                             \"11th\": \"{:.2f}\", \n",
    "                             \"12th\": \"{:.2f}\"})"
   ]
  },
  {
   "cell_type": "code",
   "execution_count": 107,
   "id": "2c302ac9-cf48-4308-913e-86aa1e819ded",
   "metadata": {},
   "outputs": [],
   "source": [
    "# Scores By School Spending\n",
    "# Establish the bins \n",
    "spending_bins = [0, 585, 630, 645, 680]\n",
    "labels = [\"<$585\", \"$585-630\", \"$630-645\", \"$645-680\"]\n",
    "\n",
    "maindf['spending_bins']=pd.cut(maindf['budget']/maindf['size'], spending_bins, labels=labels)\n",
    "\n",
    "# Groupby spending\n",
    "spending=maindf.groupby('spending_bins')\n"
   ]
  },
  {
   "cell_type": "code",
   "execution_count": 109,
   "id": "7bef1cef-dddf-4c60-8f6a-d6954ced9d67",
   "metadata": {},
   "outputs": [
    {
     "data": {
      "text/plain": [
       "spending_bins\n",
       "<$585       83.363065\n",
       "$585-630    79.982873\n",
       "$630-645    77.821056\n",
       "$645-680    77.049297\n",
       "Name: math_score, dtype: float64"
      ]
     },
     "execution_count": 109,
     "metadata": {},
     "output_type": "execute_result"
    }
   ],
   "source": [
    "# Calculate avg math score by spending\n",
    "sp_avgmath=spending['math_score'].mean()\n",
    "sp_avgmath"
   ]
  },
  {
   "cell_type": "code",
   "execution_count": 110,
   "id": "5b3931d4-f6c6-45f1-9e70-b2340f029f5f",
   "metadata": {},
   "outputs": [
    {
     "data": {
      "text/plain": [
       "spending_bins\n",
       "<$585       83.964039\n",
       "$585-630    82.312643\n",
       "$630-645    81.301007\n",
       "$645-680    81.005604\n",
       "Name: reading_score, dtype: float64"
      ]
     },
     "execution_count": 110,
     "metadata": {},
     "output_type": "execute_result"
    }
   ],
   "source": [
    "# Calculate avg reading score by spending\n",
    "sp_avgread=spending['reading_score'].mean()\n",
    "sp_avgread"
   ]
  },
  {
   "cell_type": "code",
   "execution_count": 111,
   "id": "5345dbc9-8cf3-489d-9b75-9c807f790be0",
   "metadata": {},
   "outputs": [
    {
     "data": {
      "text/plain": [
       "spending_bins\n",
       "<$585       93.702889\n",
       "$585-630    79.109851\n",
       "$630-645    70.623565\n",
       "$645-680    66.230813\n",
       "Name: Student ID, dtype: float64"
      ]
     },
     "execution_count": 111,
     "metadata": {},
     "output_type": "execute_result"
    }
   ],
   "source": [
    "# Calculate % passing math by spending\n",
    "sp_math_pass = maindf[maindf['math_score'] >= 70].groupby('spending_bins')['Student ID'].count()/spending['Student ID'].count()*100\n",
    "sp_math_pass"
   ]
  },
  {
   "cell_type": "code",
   "execution_count": 112,
   "id": "7e37fee5-beb1-4c7b-a143-9270a06b4943",
   "metadata": {},
   "outputs": [
    {
     "data": {
      "text/plain": [
       "spending_bins\n",
       "<$585       96.686558\n",
       "$585-630    88.513145\n",
       "$630-645    82.600247\n",
       "$645-680    81.109397\n",
       "Name: Student ID, dtype: float64"
      ]
     },
     "execution_count": 112,
     "metadata": {},
     "output_type": "execute_result"
    }
   ],
   "source": [
    "# Calculate % passing reading by spending\n",
    "sp_read_pass = maindf[maindf['reading_score'] >= 70].groupby('spending_bins')['Student ID'].count()/spending['Student ID'].count()*100\n",
    "sp_read_pass"
   ]
  },
  {
   "cell_type": "code",
   "execution_count": 113,
   "id": "519baf13-9b60-4d28-8e13-56a1baaa49c9",
   "metadata": {},
   "outputs": [
    {
     "data": {
      "text/plain": [
       "spending_bins\n",
       "<$585       90.640704\n",
       "$585-630    70.939239\n",
       "$630-645    58.841194\n",
       "$645-680    53.528791\n",
       "Name: Student ID, dtype: float64"
      ]
     },
     "execution_count": 113,
     "metadata": {},
     "output_type": "execute_result"
    }
   ],
   "source": [
    "sp_duo_pass = maindf[(maindf['reading_score'] >= 70) & (maindf['math_score'] >= 70)].groupby('spending_bins')['Student ID'].count()/spending['Student ID'].count()*100\n",
    "sp_duo_pass"
   ]
  },
  {
   "cell_type": "code",
   "execution_count": 115,
   "id": "b6305bfb-0734-4c41-b97b-a73225920972",
   "metadata": {},
   "outputs": [
    {
     "data": {
      "text/html": [
       "<style type=\"text/css\">\n",
       "</style>\n",
       "<table id=\"T_675fe\">\n",
       "  <thead>\n",
       "    <tr>\n",
       "      <th class=\"blank level0\" >&nbsp;</th>\n",
       "      <th id=\"T_675fe_level0_col0\" class=\"col_heading level0 col0\" >Avg Math Score</th>\n",
       "      <th id=\"T_675fe_level0_col1\" class=\"col_heading level0 col1\" >Avg Reading Score</th>\n",
       "      <th id=\"T_675fe_level0_col2\" class=\"col_heading level0 col2\" >% Passing Math</th>\n",
       "      <th id=\"T_675fe_level0_col3\" class=\"col_heading level0 col3\" >% Passing Reading</th>\n",
       "      <th id=\"T_675fe_level0_col4\" class=\"col_heading level0 col4\" >% Passing Both</th>\n",
       "    </tr>\n",
       "    <tr>\n",
       "      <th class=\"index_name level0\" >Per Student Budget</th>\n",
       "      <th class=\"blank col0\" >&nbsp;</th>\n",
       "      <th class=\"blank col1\" >&nbsp;</th>\n",
       "      <th class=\"blank col2\" >&nbsp;</th>\n",
       "      <th class=\"blank col3\" >&nbsp;</th>\n",
       "      <th class=\"blank col4\" >&nbsp;</th>\n",
       "    </tr>\n",
       "  </thead>\n",
       "  <tbody>\n",
       "    <tr>\n",
       "      <th id=\"T_675fe_level0_row0\" class=\"row_heading level0 row0\" ><$585</th>\n",
       "      <td id=\"T_675fe_row0_col0\" class=\"data row0 col0\" >83.36</td>\n",
       "      <td id=\"T_675fe_row0_col1\" class=\"data row0 col1\" >83.96</td>\n",
       "      <td id=\"T_675fe_row0_col2\" class=\"data row0 col2\" >93.70%</td>\n",
       "      <td id=\"T_675fe_row0_col3\" class=\"data row0 col3\" >96.69%</td>\n",
       "      <td id=\"T_675fe_row0_col4\" class=\"data row0 col4\" >90.64%</td>\n",
       "    </tr>\n",
       "    <tr>\n",
       "      <th id=\"T_675fe_level0_row1\" class=\"row_heading level0 row1\" >$585-630</th>\n",
       "      <td id=\"T_675fe_row1_col0\" class=\"data row1 col0\" >79.98</td>\n",
       "      <td id=\"T_675fe_row1_col1\" class=\"data row1 col1\" >82.31</td>\n",
       "      <td id=\"T_675fe_row1_col2\" class=\"data row1 col2\" >79.11%</td>\n",
       "      <td id=\"T_675fe_row1_col3\" class=\"data row1 col3\" >88.51%</td>\n",
       "      <td id=\"T_675fe_row1_col4\" class=\"data row1 col4\" >70.94%</td>\n",
       "    </tr>\n",
       "    <tr>\n",
       "      <th id=\"T_675fe_level0_row2\" class=\"row_heading level0 row2\" >$630-645</th>\n",
       "      <td id=\"T_675fe_row2_col0\" class=\"data row2 col0\" >77.82</td>\n",
       "      <td id=\"T_675fe_row2_col1\" class=\"data row2 col1\" >81.30</td>\n",
       "      <td id=\"T_675fe_row2_col2\" class=\"data row2 col2\" >70.62%</td>\n",
       "      <td id=\"T_675fe_row2_col3\" class=\"data row2 col3\" >82.60%</td>\n",
       "      <td id=\"T_675fe_row2_col4\" class=\"data row2 col4\" >58.84%</td>\n",
       "    </tr>\n",
       "    <tr>\n",
       "      <th id=\"T_675fe_level0_row3\" class=\"row_heading level0 row3\" >$645-680</th>\n",
       "      <td id=\"T_675fe_row3_col0\" class=\"data row3 col0\" >77.05</td>\n",
       "      <td id=\"T_675fe_row3_col1\" class=\"data row3 col1\" >81.01</td>\n",
       "      <td id=\"T_675fe_row3_col2\" class=\"data row3 col2\" >66.23%</td>\n",
       "      <td id=\"T_675fe_row3_col3\" class=\"data row3 col3\" >81.11%</td>\n",
       "      <td id=\"T_675fe_row3_col4\" class=\"data row3 col4\" >53.53%</td>\n",
       "    </tr>\n",
       "  </tbody>\n",
       "</table>\n"
      ],
      "text/plain": [
       "<pandas.io.formats.style.Styler at 0x1fceb889610>"
      ]
     },
     "execution_count": 115,
     "metadata": {},
     "output_type": "execute_result"
    }
   ],
   "source": [
    "# Create the spending df\n",
    "spendingsummary=pd.DataFrame({\n",
    "    \"Avg Math Score\": sp_avgmath,\n",
    "    \"Avg Reading Score\": sp_avgread,\n",
    "    \"% Passing Math\": sp_math_pass,\n",
    "    \"% Passing Reading\": sp_read_pass,\n",
    "    \"% Passing Both\": sp_duo_pass\n",
    "})\n",
    "spendingsummary.index.name= \"Per Student Budget\"\n",
    "# Format\n",
    "spendingsummary.style.format({'Avg Math Score': '{:.2f}',\n",
    "                              'Avg Reading Score': '{:.2f}',\n",
    "                              '% Passing Math' : '{:.2f}%',\n",
    "                              '% Passing Reading' : '{:.2f}%',\n",
    "                              '% Passing Both' : '{:.2f}%'})"
   ]
  },
  {
   "cell_type": "code",
   "execution_count": 116,
   "id": "adab53fb-d017-4bbb-9b4e-a31a43a01911",
   "metadata": {},
   "outputs": [],
   "source": [
    "# Scores by School Size\n",
    "\n",
    "# Establish the bins.\n",
    "size_bins = [0, 1000, 2000, 5000]\n",
    "labels = [\"Small (<1000)\", \"Medium (1000-2000)\", \"Large (2000-5000)\"]\n",
    "\n",
    "maindf['size_bins']=pd.cut(maindf['size'], size_bins, labels=labels)\n",
    "\n",
    "#Group by size\n",
    "size=maindf.groupby('size_bins')\n"
   ]
  },
  {
   "cell_type": "code",
   "execution_count": 121,
   "id": "fa2f35bc-20ca-4d02-86f4-e813d01a42ec",
   "metadata": {},
   "outputs": [
    {
     "data": {
      "text/plain": [
       "size_bins\n",
       "Small (<1000)         83.828654\n",
       "Medium (1000-2000)    83.372682\n",
       "Large (2000-5000)     77.477597\n",
       "Name: math_score, dtype: float64"
      ]
     },
     "execution_count": 121,
     "metadata": {},
     "output_type": "execute_result"
    }
   ],
   "source": [
    "# Calculate average math score by school size\n",
    "sz_avgmath=size['math_score'].mean()\n",
    "sz_avgmath"
   ]
  },
  {
   "cell_type": "code",
   "execution_count": 122,
   "id": "33693a7c-d291-4c02-8e70-292931071074",
   "metadata": {},
   "outputs": [
    {
     "data": {
      "text/plain": [
       "size_bins\n",
       "Small (<1000)         83.974082\n",
       "Medium (1000-2000)    83.867989\n",
       "Large (2000-5000)     81.198674\n",
       "Name: reading_score, dtype: float64"
      ]
     },
     "execution_count": 122,
     "metadata": {},
     "output_type": "execute_result"
    }
   ],
   "source": [
    "# Calculate average reading score by school size\n",
    "sz_avgread=size['reading_score'].mean()\n",
    "sz_avgread"
   ]
  },
  {
   "cell_type": "code",
   "execution_count": 123,
   "id": "2bb88ce8-f024-4495-b825-692cf56adcf3",
   "metadata": {},
   "outputs": [
    {
     "data": {
      "text/plain": [
       "size_bins\n",
       "Small (<1000)         93.952484\n",
       "Medium (1000-2000)    93.616522\n",
       "Large (2000-5000)     68.652380\n",
       "Name: Student ID, dtype: float64"
      ]
     },
     "execution_count": 123,
     "metadata": {},
     "output_type": "execute_result"
    }
   ],
   "source": [
    "# Calculate % passing math by school size\n",
    "sz_math_pass = maindf[maindf['math_score'] >= 70].groupby('size_bins')['Student ID'].count()/size['Student ID'].count()*100\n",
    "sz_math_pass"
   ]
  },
  {
   "cell_type": "code",
   "execution_count": 124,
   "id": "47e68d45-5359-426d-9ec4-7644d3551381",
   "metadata": {},
   "outputs": [
    {
     "data": {
      "text/plain": [
       "size_bins\n",
       "Small (<1000)         96.040317\n",
       "Medium (1000-2000)    96.773058\n",
       "Large (2000-5000)     82.125158\n",
       "Name: Student ID, dtype: float64"
      ]
     },
     "execution_count": 124,
     "metadata": {},
     "output_type": "execute_result"
    }
   ],
   "source": [
    "# Calculate % passing reading by school size\n",
    "sz_read_pass = maindf[maindf['reading_score'] >= 70].groupby('size_bins')['Student ID'].count()/size['Student ID'].count()*100\n",
    "sz_read_pass"
   ]
  },
  {
   "cell_type": "code",
   "execution_count": 125,
   "id": "d57749e7-5336-4875-90b3-e5db03440802",
   "metadata": {},
   "outputs": [
    {
     "data": {
      "text/plain": [
       "size_bins\n",
       "Small (<1000)         90.136789\n",
       "Medium (1000-2000)    90.624267\n",
       "Large (2000-5000)     56.574046\n",
       "Name: Student ID, dtype: float64"
      ]
     },
     "execution_count": 125,
     "metadata": {},
     "output_type": "execute_result"
    }
   ],
   "source": [
    "# Calculate % passing both by school size\n",
    "sz_duo_pass = maindf[(maindf['reading_score'] >= 70) & (maindf['math_score'] >= 70)].groupby('size_bins')['Student ID'].count()/size['Student ID'].count()*100\n",
    "sz_duo_pass"
   ]
  },
  {
   "cell_type": "code",
   "execution_count": 126,
   "id": "247c1395-ccd4-4bc9-aca1-8e1b7f88fb62",
   "metadata": {},
   "outputs": [
    {
     "data": {
      "text/html": [
       "<style type=\"text/css\">\n",
       "</style>\n",
       "<table id=\"T_e79a0\">\n",
       "  <thead>\n",
       "    <tr>\n",
       "      <th class=\"blank level0\" >&nbsp;</th>\n",
       "      <th id=\"T_e79a0_level0_col0\" class=\"col_heading level0 col0\" >Avg Math Score</th>\n",
       "      <th id=\"T_e79a0_level0_col1\" class=\"col_heading level0 col1\" >Avg Reading Score</th>\n",
       "      <th id=\"T_e79a0_level0_col2\" class=\"col_heading level0 col2\" >% Passing Math</th>\n",
       "      <th id=\"T_e79a0_level0_col3\" class=\"col_heading level0 col3\" >% Passing Reading</th>\n",
       "      <th id=\"T_e79a0_level0_col4\" class=\"col_heading level0 col4\" >% Passing Both</th>\n",
       "    </tr>\n",
       "    <tr>\n",
       "      <th class=\"index_name level0\" >Total Students</th>\n",
       "      <th class=\"blank col0\" >&nbsp;</th>\n",
       "      <th class=\"blank col1\" >&nbsp;</th>\n",
       "      <th class=\"blank col2\" >&nbsp;</th>\n",
       "      <th class=\"blank col3\" >&nbsp;</th>\n",
       "      <th class=\"blank col4\" >&nbsp;</th>\n",
       "    </tr>\n",
       "  </thead>\n",
       "  <tbody>\n",
       "    <tr>\n",
       "      <th id=\"T_e79a0_level0_row0\" class=\"row_heading level0 row0\" >Small (<1000)</th>\n",
       "      <td id=\"T_e79a0_row0_col0\" class=\"data row0 col0\" >83.83</td>\n",
       "      <td id=\"T_e79a0_row0_col1\" class=\"data row0 col1\" >83.97</td>\n",
       "      <td id=\"T_e79a0_row0_col2\" class=\"data row0 col2\" >93.95%</td>\n",
       "      <td id=\"T_e79a0_row0_col3\" class=\"data row0 col3\" >96.04%</td>\n",
       "      <td id=\"T_e79a0_row0_col4\" class=\"data row0 col4\" >90.14%</td>\n",
       "    </tr>\n",
       "    <tr>\n",
       "      <th id=\"T_e79a0_level0_row1\" class=\"row_heading level0 row1\" >Medium (1000-2000)</th>\n",
       "      <td id=\"T_e79a0_row1_col0\" class=\"data row1 col0\" >83.37</td>\n",
       "      <td id=\"T_e79a0_row1_col1\" class=\"data row1 col1\" >83.87</td>\n",
       "      <td id=\"T_e79a0_row1_col2\" class=\"data row1 col2\" >93.62%</td>\n",
       "      <td id=\"T_e79a0_row1_col3\" class=\"data row1 col3\" >96.77%</td>\n",
       "      <td id=\"T_e79a0_row1_col4\" class=\"data row1 col4\" >90.62%</td>\n",
       "    </tr>\n",
       "    <tr>\n",
       "      <th id=\"T_e79a0_level0_row2\" class=\"row_heading level0 row2\" >Large (2000-5000)</th>\n",
       "      <td id=\"T_e79a0_row2_col0\" class=\"data row2 col0\" >77.48</td>\n",
       "      <td id=\"T_e79a0_row2_col1\" class=\"data row2 col1\" >81.20</td>\n",
       "      <td id=\"T_e79a0_row2_col2\" class=\"data row2 col2\" >68.65%</td>\n",
       "      <td id=\"T_e79a0_row2_col3\" class=\"data row2 col3\" >82.13%</td>\n",
       "      <td id=\"T_e79a0_row2_col4\" class=\"data row2 col4\" >56.57%</td>\n",
       "    </tr>\n",
       "  </tbody>\n",
       "</table>\n"
      ],
      "text/plain": [
       "<pandas.io.formats.style.Styler at 0x1fceb8cd0d0>"
      ]
     },
     "execution_count": 126,
     "metadata": {},
     "output_type": "execute_result"
    }
   ],
   "source": [
    "# Creating a size df\n",
    "sizesummary=pd.DataFrame({\n",
    "    \"Avg Math Score\": sz_avgmath,\n",
    "    \"Avg Reading Score\": sz_avgread,\n",
    "    \"% Passing Math\": sz_math_pass,\n",
    "    \"% Passing Reading\": sz_read_pass,\n",
    "    \"% Passing Both\": sz_duo_pass\n",
    "})\n",
    "\n",
    "sizesummary.index.name= 'Total Students'\n",
    "sizesummary=sizesummary.reindex(labels)\n",
    "\n",
    "# Format \n",
    "sizesummary.style.format({'Avg Math Score': '{:.2f}',\n",
    "                              'Avg Reading Score': '{:.2f}',\n",
    "                              '% Passing Math' : '{:.2f}%',\n",
    "                              '% Passing Reading' : '{:.2f}%',\n",
    "                              '% Passing Both' : '{:.2f}%'})"
   ]
  },
  {
   "cell_type": "code",
   "execution_count": 133,
   "id": "8bfc2724-7ba0-40ae-ba55-dcfc6ed18fb1",
   "metadata": {},
   "outputs": [],
   "source": [
    "# Scores by School Type\n",
    "# Groupby school type\n",
    "stype=maindf.groupby('type')"
   ]
  },
  {
   "cell_type": "code",
   "execution_count": 134,
   "id": "a24af585-98fa-4659-adb0-2f7bdecf4dc3",
   "metadata": {},
   "outputs": [
    {
     "data": {
      "text/plain": [
       "type\n",
       "Charter     83.406183\n",
       "District    76.987026\n",
       "Name: math_score, dtype: float64"
      ]
     },
     "execution_count": 134,
     "metadata": {},
     "output_type": "execute_result"
    }
   ],
   "source": [
    "# Calculate average math score by school type\n",
    "st_avgmath=stype['math_score'].mean()\n",
    "st_avgmath"
   ]
  },
  {
   "cell_type": "code",
   "execution_count": 135,
   "id": "035980f5-5816-45a4-9b3d-bed033850db7",
   "metadata": {},
   "outputs": [
    {
     "data": {
      "text/plain": [
       "type\n",
       "Charter     83.902821\n",
       "District    80.962485\n",
       "Name: reading_score, dtype: float64"
      ]
     },
     "execution_count": 135,
     "metadata": {},
     "output_type": "execute_result"
    }
   ],
   "source": [
    "# Calculate average reading score by school type\n",
    "st_avgread=stype['reading_score'].mean()\n",
    "st_avgread"
   ]
  },
  {
   "cell_type": "code",
   "execution_count": 136,
   "id": "2844516c-88f4-42f1-b0bb-47e89a7af147",
   "metadata": {},
   "outputs": [
    {
     "data": {
      "text/plain": [
       "type\n",
       "Charter     93.701821\n",
       "District    66.518387\n",
       "Name: Student ID, dtype: float64"
      ]
     },
     "execution_count": 136,
     "metadata": {},
     "output_type": "execute_result"
    }
   ],
   "source": [
    "# Calculate % passing math by school type\n",
    "st_math_pass = maindf[maindf['math_score'] >= 70].groupby('type')['Student ID'].count()/stype['Student ID'].count()*100\n",
    "st_math_pass"
   ]
  },
  {
   "cell_type": "code",
   "execution_count": 137,
   "id": "7f03cf4d-23c6-42c1-980f-e4c7261c8088",
   "metadata": {},
   "outputs": [
    {
     "data": {
      "text/plain": [
       "type\n",
       "Charter     96.645891\n",
       "District    80.905249\n",
       "Name: Student ID, dtype: float64"
      ]
     },
     "execution_count": 137,
     "metadata": {},
     "output_type": "execute_result"
    }
   ],
   "source": [
    "# Calculate % passing reading by school type\n",
    "st_read_pass = maindf[maindf['reading_score'] >= 70].groupby('type')['Student ID'].count()/stype['Student ID'].count()*100\n",
    "st_read_pass"
   ]
  },
  {
   "cell_type": "code",
   "execution_count": 138,
   "id": "f5b442b4-d9d7-45f7-8a87-6b09e3721fc4",
   "metadata": {},
   "outputs": [
    {
     "data": {
      "text/plain": [
       "type\n",
       "Charter     90.560932\n",
       "District    53.695878\n",
       "Name: Student ID, dtype: float64"
      ]
     },
     "execution_count": 138,
     "metadata": {},
     "output_type": "execute_result"
    }
   ],
   "source": [
    "# Calculate % passing both by school type\n",
    "st_duo_pass = maindf[(maindf['reading_score'] >= 70) & (maindf['math_score'] >= 70)].groupby('type')['Student ID'].count()/stype['Student ID'].count()*100\n",
    "st_duo_pass"
   ]
  },
  {
   "cell_type": "code",
   "execution_count": 139,
   "id": "83bc506f-b160-4ad9-821f-98370205a8ed",
   "metadata": {},
   "outputs": [
    {
     "data": {
      "text/html": [
       "<style type=\"text/css\">\n",
       "</style>\n",
       "<table id=\"T_5dee0\">\n",
       "  <thead>\n",
       "    <tr>\n",
       "      <th class=\"blank level0\" >&nbsp;</th>\n",
       "      <th id=\"T_5dee0_level0_col0\" class=\"col_heading level0 col0\" >Avg Math Score</th>\n",
       "      <th id=\"T_5dee0_level0_col1\" class=\"col_heading level0 col1\" >Avg Reading Score</th>\n",
       "      <th id=\"T_5dee0_level0_col2\" class=\"col_heading level0 col2\" >% Passing Math</th>\n",
       "      <th id=\"T_5dee0_level0_col3\" class=\"col_heading level0 col3\" >% Passing Reading</th>\n",
       "      <th id=\"T_5dee0_level0_col4\" class=\"col_heading level0 col4\" >% Passing Both</th>\n",
       "    </tr>\n",
       "    <tr>\n",
       "      <th class=\"index_name level0\" >Type of School</th>\n",
       "      <th class=\"blank col0\" >&nbsp;</th>\n",
       "      <th class=\"blank col1\" >&nbsp;</th>\n",
       "      <th class=\"blank col2\" >&nbsp;</th>\n",
       "      <th class=\"blank col3\" >&nbsp;</th>\n",
       "      <th class=\"blank col4\" >&nbsp;</th>\n",
       "    </tr>\n",
       "  </thead>\n",
       "  <tbody>\n",
       "    <tr>\n",
       "      <th id=\"T_5dee0_level0_row0\" class=\"row_heading level0 row0\" >Charter</th>\n",
       "      <td id=\"T_5dee0_row0_col0\" class=\"data row0 col0\" >83.41</td>\n",
       "      <td id=\"T_5dee0_row0_col1\" class=\"data row0 col1\" >83.90</td>\n",
       "      <td id=\"T_5dee0_row0_col2\" class=\"data row0 col2\" >93.70%</td>\n",
       "      <td id=\"T_5dee0_row0_col3\" class=\"data row0 col3\" >96.65%</td>\n",
       "      <td id=\"T_5dee0_row0_col4\" class=\"data row0 col4\" >90.56%</td>\n",
       "    </tr>\n",
       "    <tr>\n",
       "      <th id=\"T_5dee0_level0_row1\" class=\"row_heading level0 row1\" >District</th>\n",
       "      <td id=\"T_5dee0_row1_col0\" class=\"data row1 col0\" >76.99</td>\n",
       "      <td id=\"T_5dee0_row1_col1\" class=\"data row1 col1\" >80.96</td>\n",
       "      <td id=\"T_5dee0_row1_col2\" class=\"data row1 col2\" >66.52%</td>\n",
       "      <td id=\"T_5dee0_row1_col3\" class=\"data row1 col3\" >80.91%</td>\n",
       "      <td id=\"T_5dee0_row1_col4\" class=\"data row1 col4\" >53.70%</td>\n",
       "    </tr>\n",
       "  </tbody>\n",
       "</table>\n"
      ],
      "text/plain": [
       "<pandas.io.formats.style.Styler at 0x1fceb899580>"
      ]
     },
     "execution_count": 139,
     "metadata": {},
     "output_type": "execute_result"
    }
   ],
   "source": [
    "# Creating a type df\n",
    "typesummary=pd.DataFrame({\n",
    "    \"Avg Math Score\": st_avgmath,\n",
    "    \"Avg Reading Score\": st_avgread,\n",
    "    \"% Passing Math\": st_math_pass,\n",
    "    \"% Passing Reading\": st_read_pass,\n",
    "    \"% Passing Both\": st_duo_pass\n",
    "})\n",
    "\n",
    "typesummary.index.name= 'Type of School'\n",
    "\n",
    "# Format \n",
    "typesummary.style.format({'Avg Math Score': '{:.2f}',\n",
    "                              'Avg Reading Score': '{:.2f}',\n",
    "                              '% Passing Math' : '{:.2f}%',\n",
    "                              '% Passing Reading' : '{:.2f}%',\n",
    "                              '% Passing Both' : '{:.2f}%'})"
   ]
  },
  {
   "cell_type": "code",
   "execution_count": null,
   "id": "da96826a-1ad9-4123-802e-8b5044e7da4d",
   "metadata": {},
   "outputs": [],
   "source": []
  }
 ],
 "metadata": {
  "kernelspec": {
   "display_name": "Python 3 (ipykernel)",
   "language": "python",
   "name": "python3"
  },
  "language_info": {
   "codemirror_mode": {
    "name": "ipython",
    "version": 3
   },
   "file_extension": ".py",
   "mimetype": "text/x-python",
   "name": "python",
   "nbconvert_exporter": "python",
   "pygments_lexer": "ipython3",
   "version": "3.9.13"
  }
 },
 "nbformat": 4,
 "nbformat_minor": 5
}
